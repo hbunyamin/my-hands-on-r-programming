{
 "cells": [
  {
   "cell_type": "markdown",
   "id": "9369bb92",
   "metadata": {},
   "source": [
    "# <a id=toc>Table of Contents</a>"
   ]
  },
  {
   "cell_type": "markdown",
   "id": "c8d94a13",
   "metadata": {},
   "source": [
    "1. [Sock merchant](#sock-merchant)\n",
    "2. [Jumping on the Clouds](#jump-on-the-clouds)\n",
    "3. [Repeated String](#repeated-string)\n",
    "4. [Array: Hourglass](#hourglass)\n",
    "\n",
    "Go to [The End](#the-end)"
   ]
  },
  {
   "cell_type": "markdown",
   "id": "d5466491",
   "metadata": {},
   "source": [
    "## <a id=\"sock-merchant\">Sock Merchant</a> (Back to [Home](#toc))"
   ]
  },
  {
   "cell_type": "code",
   "execution_count": 1,
   "id": "3f2a08f6",
   "metadata": {},
   "outputs": [],
   "source": [
    "import math\n",
    "import os\n",
    "import random\n",
    "import re\n",
    "import sys\n",
    "\n",
    "#\n",
    "# Complete the 'sockMerchant' function below.\n",
    "#\n",
    "# The function is expected to return an INTEGER.\n",
    "# The function accepts following parameters:\n",
    "#  1. INTEGER n\n",
    "#  2. INTEGER_ARRAY ar\n",
    "#\n",
    "\n",
    "def sockMerchant(n, ar):\n",
    "    # Firstly, let's sort the array\n",
    "    for j in range(1, n):\n",
    "        key = ar[j]\n",
    "        i = j - 1\n",
    "        while i > 0 and ar[i] > key:\n",
    "            ar[i+1] = ar[i]\n",
    "            i = i - 1\n",
    "        ar[i+1] = key\n",
    "    # After the array has been sorted, let's count number of pairs\n",
    "    num_of_pairs = 0\n",
    "    prev_num = ar[0]\n",
    "    for indeks in range(1, n):\n",
    "        if (prev_num == ar[indeks]) and ( (indeks % 2) != 0):\n",
    "             num_of_pairs += 1\n",
    "        prev_num = ar[indeks]     \n",
    "\n",
    "    return num_of_pairs    "
   ]
  },
  {
   "cell_type": "markdown",
   "id": "a633c5ab",
   "metadata": {},
   "source": [
    "## <a id=\"jump-on-the-clouds\">Jumping on The Clouds</a> (Back to [Home](#toc)) "
   ]
  },
  {
   "cell_type": "code",
   "execution_count": 85,
   "id": "2603debd",
   "metadata": {},
   "outputs": [],
   "source": [
    "c = [0,1,0,0,0,1,0,0,0,0]\n",
    "#c = [0,0,0,0,0]"
   ]
  },
  {
   "cell_type": "code",
   "execution_count": 86,
   "id": "dd79f4d5",
   "metadata": {},
   "outputs": [],
   "source": [
    "def jump_on_the_clouds(c):\n",
    "    n = len(c)\n",
    "\n",
    "    current_pos = 0\n",
    "    num_steps = 0\n",
    "    \n",
    "    while current_pos < n:\n",
    "        if ( current_pos < n-2 ) and c[current_pos+2] == 0:\n",
    "            current_pos += 2\n",
    "            num_steps += 1\n",
    "        else:\n",
    "            current_pos += 1\n",
    "            num_steps += 1\n",
    "    \n",
    "#     while next_num <= (n - 1):\n",
    "#         if next_num == (n-1):\n",
    "#             num_steps +=1\n",
    "#             next_num +=1\n",
    "#         elif ( next_num + 1 ) == (n-1):\n",
    "#             num_steps += 1\n",
    "#             next_num = n-1\n",
    "#         else:\n",
    "#             num_steps += 1\n",
    "#             next_num +=1\n",
    "    return num_steps-1"
   ]
  },
  {
   "cell_type": "code",
   "execution_count": 87,
   "id": "a1ecabd5",
   "metadata": {},
   "outputs": [
    {
     "data": {
      "text/plain": [
       "5"
      ]
     },
     "execution_count": 87,
     "metadata": {},
     "output_type": "execute_result"
    }
   ],
   "source": [
    "jump_on_the_clouds(c)"
   ]
  },
  {
   "cell_type": "markdown",
   "id": "28657451",
   "metadata": {},
   "source": [
    "## <a id=\"repeated-string\">Repeated String</a> (Back to [Home](#toc))"
   ]
  },
  {
   "cell_type": "code",
   "execution_count": 91,
   "id": "b1c4abd2",
   "metadata": {},
   "outputs": [],
   "source": [
    "import  math"
   ]
  },
  {
   "cell_type": "code",
   "execution_count": 92,
   "id": "586bddf1",
   "metadata": {},
   "outputs": [
    {
     "data": {
      "text/plain": [
       "5"
      ]
     },
     "execution_count": 92,
     "metadata": {},
     "output_type": "execute_result"
    }
   ],
   "source": [
    "math.floor(10/2)"
   ]
  },
  {
   "cell_type": "code",
   "execution_count": 125,
   "id": "b9ee7c1b",
   "metadata": {},
   "outputs": [],
   "source": [
    "s = \"a\"\n",
    "n = 1000000000000"
   ]
  },
  {
   "cell_type": "code",
   "execution_count": 134,
   "id": "f11bf072",
   "metadata": {},
   "outputs": [],
   "source": [
    "def repeatedString(s,n):\n",
    "    \n",
    "    return s.count('a') * ( n // len(s) ) + s[:(n % len(s))].count('a') "
   ]
  },
  {
   "cell_type": "code",
   "execution_count": 135,
   "id": "30fb3944",
   "metadata": {},
   "outputs": [
    {
     "data": {
      "text/plain": [
       "1000000000000"
      ]
     },
     "execution_count": 135,
     "metadata": {},
     "output_type": "execute_result"
    }
   ],
   "source": [
    "repeatedString(s,n)"
   ]
  },
  {
   "cell_type": "code",
   "execution_count": 118,
   "id": "9c4dc96e",
   "metadata": {},
   "outputs": [
    {
     "data": {
      "text/plain": [
       "0"
      ]
     },
     "execution_count": 118,
     "metadata": {},
     "output_type": "execute_result"
    }
   ],
   "source": [
    "s[:n % len(s)].count('a')"
   ]
  },
  {
   "cell_type": "code",
   "execution_count": 114,
   "id": "5501c568",
   "metadata": {},
   "outputs": [
    {
     "name": "stdout",
     "output_type": "stream",
     "text": [
      "1000000000000\n"
     ]
    }
   ],
   "source": [
    "print(s.count(\"a\") * (n // len(s)) + s[:n % len(s)].count(\"a\"))"
   ]
  },
  {
   "cell_type": "markdown",
   "id": "9afb80b4",
   "metadata": {},
   "source": [
    "## <a id=\"hourglass\">Arrays: Hourglass</a> (Back to [Home](#toc))"
   ]
  },
  {
   "cell_type": "code",
   "execution_count": 1,
   "id": "29cf3de4",
   "metadata": {},
   "outputs": [],
   "source": [
    "import numpy as np"
   ]
  },
  {
   "cell_type": "code",
   "execution_count": 14,
   "id": "4f1c4fea",
   "metadata": {},
   "outputs": [],
   "source": [
    "arr = np.array([ [1, 1, 1, 0, 0, 0],\n",
    "                 [0, 1, 0, 0, 0, 0],\n",
    "                 [1, 1, 1, 0, 0, 0],\n",
    "                 [0, 0, 0, 0, 0, 0],\n",
    "                 [0, 0, 0, 0, 0, 0],\n",
    "                 [0, 0, 0, 0, 0, 0] ])\n",
    "\n",
    "arr2 = np.array([[-9, -9, -9, 1, 1, 1],\n",
    "                 [0, -9, 0, 4, 3, 2],\n",
    "                 [-9, -9, -9, 1, 2, 3],\n",
    "                 [0, 0, 8, 6, 6, 0],\n",
    "                 [0, 0, 0, -2, 0, 0],\n",
    "                 [0, 0, 1, 2, 4, 0] ])"
   ]
  },
  {
   "cell_type": "code",
   "execution_count": 15,
   "id": "67fdf742",
   "metadata": {},
   "outputs": [],
   "source": [
    "def sum_hourglass(arr, row, col):\n",
    "    sum_tot = 0\n",
    "    \n",
    "    # sum the first row\n",
    "    for col_indeks in range(col, col+3):\n",
    "        sum_tot += arr[row][col_indeks]\n",
    "    \n",
    "    # sum the second row\n",
    "    sum_tot += arr[row+1][col+1]\n",
    "    \n",
    "    # sum the third row\n",
    "    for col_indeks in range(col, col+3):\n",
    "        sum_tot += arr[row+2][col_indeks]\n",
    "\n",
    "    return sum_tot"
   ]
  },
  {
   "cell_type": "code",
   "execution_count": 12,
   "id": "01840950",
   "metadata": {},
   "outputs": [],
   "source": [
    "def hourglassSum(arr):\n",
    "    max_sum_tot = sum_hourglass(arr, 0, 0)\n",
    "    for row in range(4):\n",
    "        for col in range(4):\n",
    "            sum_tot_temp = sum_hourglass(arr, row, col)\n",
    "            if sum_tot_temp > max_sum_tot:\n",
    "                max_sum_tot = sum_tot_temp\n",
    "    return max_sum_tot"
   ]
  },
  {
   "cell_type": "code",
   "execution_count": 17,
   "id": "cef35981",
   "metadata": {},
   "outputs": [
    {
     "data": {
      "text/plain": [
       "7"
      ]
     },
     "execution_count": 17,
     "metadata": {},
     "output_type": "execute_result"
    }
   ],
   "source": [
    "hourglassSum(arr)"
   ]
  },
  {
   "cell_type": "code",
   "execution_count": 18,
   "id": "4eaea253",
   "metadata": {},
   "outputs": [
    {
     "data": {
      "text/plain": [
       "28"
      ]
     },
     "execution_count": 18,
     "metadata": {},
     "output_type": "execute_result"
    }
   ],
   "source": [
    "hourglassSum(arr2)"
   ]
  },
  {
   "cell_type": "code",
   "execution_count": null,
   "id": "1f91662d",
   "metadata": {},
   "outputs": [],
   "source": []
  },
  {
   "cell_type": "markdown",
   "id": "1c2a5ff5",
   "metadata": {},
   "source": [
    "# <a id=the-end>The End</a> (Back to [Home](#toc))"
   ]
  }
 ],
 "metadata": {
  "kernelspec": {
   "display_name": "Python 3 (ipykernel)",
   "language": "python",
   "name": "python3"
  },
  "language_info": {
   "codemirror_mode": {
    "name": "ipython",
    "version": 3
   },
   "file_extension": ".py",
   "mimetype": "text/x-python",
   "name": "python",
   "nbconvert_exporter": "python",
   "pygments_lexer": "ipython3",
   "version": "3.9.12"
  }
 },
 "nbformat": 4,
 "nbformat_minor": 5
}
