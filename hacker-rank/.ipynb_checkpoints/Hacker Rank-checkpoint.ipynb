{
 "cells": [
  {
   "cell_type": "code",
   "execution_count": 1,
   "id": "3f2a08f6",
   "metadata": {},
   "outputs": [],
   "source": [
    "import math\n",
    "import os\n",
    "import random\n",
    "import re\n",
    "import sys\n",
    "\n",
    "#\n",
    "# Complete the 'sockMerchant' function below.\n",
    "#\n",
    "# The function is expected to return an INTEGER.\n",
    "# The function accepts following parameters:\n",
    "#  1. INTEGER n\n",
    "#  2. INTEGER_ARRAY ar\n",
    "#\n",
    "\n",
    "def sockMerchant(n, ar):\n",
    "    # Firstly, let's sort the array\n",
    "    for j in range(1, n):\n",
    "        key = ar[j]\n",
    "        i = j - 1\n",
    "        while i > 0 and ar[i] > key:\n",
    "            ar[i+1] = ar[i]\n",
    "            i = i - 1\n",
    "        ar[i+1] = key\n",
    "    # After the array has been sorted, let's count number of pairs\n",
    "    num_of_pairs = 0\n",
    "    prev_num = ar[0]\n",
    "    for indeks in range(1, n):\n",
    "        if (prev_num == ar[indeks]) and ( (indeks % 2) != 0):\n",
    "             num_of_pairs += 1\n",
    "        prev_num = ar[indeks]     \n",
    "\n",
    "    return num_of_pairs    "
   ]
  },
  {
   "cell_type": "code",
   "execution_count": null,
   "id": "97f48c78",
   "metadata": {},
   "outputs": [],
   "source": []
  }
 ],
 "metadata": {
  "kernelspec": {
   "display_name": "Python 3 (ipykernel)",
   "language": "python",
   "name": "python3"
  },
  "language_info": {
   "codemirror_mode": {
    "name": "ipython",
    "version": 3
   },
   "file_extension": ".py",
   "mimetype": "text/x-python",
   "name": "python",
   "nbconvert_exporter": "python",
   "pygments_lexer": "ipython3",
   "version": "3.8.11"
  }
 },
 "nbformat": 4,
 "nbformat_minor": 5
}
